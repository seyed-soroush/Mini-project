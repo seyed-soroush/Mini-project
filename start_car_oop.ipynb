{
 "cells": [
  {
   "cell_type": "code",
   "execution_count": 5,
   "id": "6dfe45b6",
   "metadata": {},
   "outputs": [],
   "source": [
    "from playsound import playsound"
   ]
  },
  {
   "cell_type": "code",
   "execution_count": 6,
   "id": "0336a01e",
   "metadata": {},
   "outputs": [],
   "source": [
    "class Car:\n",
    "    engine_status = False\n",
    "    engine_condition = True\n",
    "    current_speed = 0\n",
    "    def __init__(self, color, model , maxspeed , numberofdoors):\n",
    "        self.color = color\n",
    "        self.model = model\n",
    "        self.maxspeed = maxspeed \n",
    "        self.numberofdoors = numberofdoors\n",
    "    def start_eng(self):\n",
    "        if self.engine_condition == True :\n",
    "            if not self.engine_status:\n",
    "                playsound(\"C:/Users/Soroush/Desktop/oop/sound.mp3\")\n",
    "                self.engine_status = True\n",
    "            else:\n",
    "                print(\"GHEEEEEEEEEEEEEEEZH\")\n",
    "        else:\n",
    "            print(\"You need to fix your car before starting.!\")\n",
    "\n",
    "    def inc_speed(self , value=10):\n",
    "        if self.engine_condition:\n",
    "            if self.engine_status:\n",
    "                if self.current_speed < self.maxspeed:\n",
    "                    if self.current_speed+value > self.maxspeed:\n",
    "                        self.current_speed = self.max_speed\n",
    "                    else:\n",
    "                        self.current_speed += value\n",
    "                    print(\"Current Speed: \" , self.current_speed)\n",
    "                else:\n",
    "                    playsound(\"C:/Users/Soroush/Downloads/explosion-312361.mp3\")\n",
    "                    self.engine_condition = False\n",
    "                    self.engine_status = False\n",
    "                    self.current_speed = 0\n",
    "            else:\n",
    "                print(\"You need to start the engine first.\")\n",
    "        else:\n",
    "            print(\"Youneed to fix your car before starting the engine\")"
   ]
  },
  {
   "cell_type": "code",
   "execution_count": 7,
   "id": "8c061fe5",
   "metadata": {},
   "outputs": [],
   "source": [
    "pride = Car(\"white\" , 111 , 120 , 4)"
   ]
  },
  {
   "cell_type": "code",
   "execution_count": 8,
   "id": "748b9fad",
   "metadata": {},
   "outputs": [],
   "source": [
    "pride.start_eng()\n"
   ]
  },
  {
   "cell_type": "code",
   "execution_count": 14,
   "id": "1e446a24",
   "metadata": {},
   "outputs": [
    {
     "name": "stderr",
     "output_type": "stream",
     "text": [
      "\n",
      "    Error 259 for command:\n",
      "        play C:/Users/Soroush/Downloads/explosion-312361.mp3 wait\n",
      "    The driver cannot recognize the specified command parameter.\n"
     ]
    },
    {
     "ename": "PlaysoundException",
     "evalue": "\n    Error 259 for command:\n        play C:/Users/Soroush/Downloads/explosion-312361.mp3 wait\n    The driver cannot recognize the specified command parameter.",
     "output_type": "error",
     "traceback": [
      "\u001b[31m---------------------------------------------------------------------------\u001b[39m",
      "\u001b[31mPlaysoundException\u001b[39m                        Traceback (most recent call last)",
      "\u001b[36mCell\u001b[39m\u001b[36m \u001b[39m\u001b[32mIn[14]\u001b[39m\u001b[32m, line 1\u001b[39m\n\u001b[32m----> \u001b[39m\u001b[32m1\u001b[39m \u001b[43mpride\u001b[49m\u001b[43m.\u001b[49m\u001b[43minc_speed\u001b[49m\u001b[43m(\u001b[49m\u001b[32;43m30\u001b[39;49m\u001b[43m)\u001b[49m\n",
      "\u001b[36mCell\u001b[39m\u001b[36m \u001b[39m\u001b[32mIn[6]\u001b[39m\u001b[32m, line 30\u001b[39m, in \u001b[36mCar.inc_speed\u001b[39m\u001b[34m(self, value)\u001b[39m\n\u001b[32m     28\u001b[39m     \u001b[38;5;28mprint\u001b[39m(\u001b[33m\"\u001b[39m\u001b[33mCurrent Speed: \u001b[39m\u001b[33m\"\u001b[39m , \u001b[38;5;28mself\u001b[39m.current_speed)\n\u001b[32m     29\u001b[39m \u001b[38;5;28;01melse\u001b[39;00m:\n\u001b[32m---> \u001b[39m\u001b[32m30\u001b[39m     \u001b[43mplaysound\u001b[49m\u001b[43m(\u001b[49m\u001b[33;43m\"\u001b[39;49m\u001b[33;43mC:/Users/Soroush/Downloads/explosion-312361.mp3\u001b[39;49m\u001b[33;43m\"\u001b[39;49m\u001b[43m)\u001b[49m\n\u001b[32m     31\u001b[39m     \u001b[38;5;28mself\u001b[39m.engine_condition = \u001b[38;5;28;01mFalse\u001b[39;00m\n\u001b[32m     32\u001b[39m     \u001b[38;5;28mself\u001b[39m.engine_status = \u001b[38;5;28;01mFalse\u001b[39;00m\n",
      "\u001b[36mFile \u001b[39m\u001b[32m~\\AppData\\Local\\Packages\\PythonSoftwareFoundation.Python.3.11_qbz5n2kfra8p0\\LocalCache\\local-packages\\Python311\\site-packages\\playsound.py:73\u001b[39m, in \u001b[36m_playsoundWin\u001b[39m\u001b[34m(sound, block)\u001b[39m\n\u001b[32m     71\u001b[39m     logger.debug(\u001b[33m'\u001b[39m\u001b[33mStarting\u001b[39m\u001b[33m'\u001b[39m)\n\u001b[32m     72\u001b[39m     winCommand(\u001b[33mu\u001b[39m\u001b[33m'\u001b[39m\u001b[33mopen \u001b[39m\u001b[38;5;132;01m{}\u001b[39;00m\u001b[33m'\u001b[39m.format(sound))\n\u001b[32m---> \u001b[39m\u001b[32m73\u001b[39m     \u001b[43mwinCommand\u001b[49m\u001b[43m(\u001b[49m\u001b[33;43mu\u001b[39;49m\u001b[33;43m'\u001b[39;49m\u001b[33;43mplay \u001b[39;49m\u001b[38;5;132;43;01m{}\u001b[39;49;00m\u001b[38;5;132;43;01m{}\u001b[39;49;00m\u001b[33;43m'\u001b[39;49m\u001b[43m.\u001b[49m\u001b[43mformat\u001b[49m\u001b[43m(\u001b[49m\u001b[43msound\u001b[49m\u001b[43m,\u001b[49m\u001b[43m \u001b[49m\u001b[33;43m'\u001b[39;49m\u001b[33;43m wait\u001b[39;49m\u001b[33;43m'\u001b[39;49m\u001b[43m \u001b[49m\u001b[38;5;28;43;01mif\u001b[39;49;00m\u001b[43m \u001b[49m\u001b[43mblock\u001b[49m\u001b[43m \u001b[49m\u001b[38;5;28;43;01melse\u001b[39;49;00m\u001b[43m \u001b[49m\u001b[33;43m'\u001b[39;49m\u001b[33;43m'\u001b[39;49m\u001b[43m)\u001b[49m\u001b[43m)\u001b[49m\n\u001b[32m     74\u001b[39m     logger.debug(\u001b[33m'\u001b[39m\u001b[33mReturning\u001b[39m\u001b[33m'\u001b[39m)\n\u001b[32m     75\u001b[39m \u001b[38;5;28;01mfinally\u001b[39;00m:\n",
      "\u001b[36mFile \u001b[39m\u001b[32m~\\AppData\\Local\\Packages\\PythonSoftwareFoundation.Python.3.11_qbz5n2kfra8p0\\LocalCache\\local-packages\\Python311\\site-packages\\playsound.py:64\u001b[39m, in \u001b[36m_playsoundWin.<locals>.winCommand\u001b[39m\u001b[34m(*command)\u001b[39m\n\u001b[32m     60\u001b[39m     exceptionMessage = (\u001b[33m'\u001b[39m\u001b[38;5;130;01m\\n\u001b[39;00m\u001b[33m    Error \u001b[39m\u001b[33m'\u001b[39m + \u001b[38;5;28mstr\u001b[39m(errorCode) + \u001b[33m'\u001b[39m\u001b[33m for command:\u001b[39m\u001b[33m'\u001b[39m\n\u001b[32m     61\u001b[39m                         \u001b[33m'\u001b[39m\u001b[38;5;130;01m\\n\u001b[39;00m\u001b[33m        \u001b[39m\u001b[33m'\u001b[39m + command.decode(\u001b[33m'\u001b[39m\u001b[33mutf-16\u001b[39m\u001b[33m'\u001b[39m) +\n\u001b[32m     62\u001b[39m                         \u001b[33m'\u001b[39m\u001b[38;5;130;01m\\n\u001b[39;00m\u001b[33m    \u001b[39m\u001b[33m'\u001b[39m + errorBuffer.raw.decode(\u001b[33m'\u001b[39m\u001b[33mutf-16\u001b[39m\u001b[33m'\u001b[39m).rstrip(\u001b[33m'\u001b[39m\u001b[38;5;130;01m\\0\u001b[39;00m\u001b[33m'\u001b[39m))\n\u001b[32m     63\u001b[39m     logger.error(exceptionMessage)\n\u001b[32m---> \u001b[39m\u001b[32m64\u001b[39m     \u001b[38;5;28;01mraise\u001b[39;00m PlaysoundException(exceptionMessage)\n\u001b[32m     65\u001b[39m \u001b[38;5;28;01mreturn\u001b[39;00m buf.value\n",
      "\u001b[31mPlaysoundException\u001b[39m: \n    Error 259 for command:\n        play C:/Users/Soroush/Downloads/explosion-312361.mp3 wait\n    The driver cannot recognize the specified command parameter."
     ]
    }
   ],
   "source": [
    "pride.inc_speed(30)"
   ]
  },
  {
   "cell_type": "code",
   "execution_count": 16,
   "id": "3a807c45",
   "metadata": {},
   "outputs": [
    {
     "name": "stdout",
     "output_type": "stream",
     "text": [
      "GHEEEEEEEEEEEEEEEZH\n"
     ]
    }
   ],
   "source": [
    "pride.start_eng()"
   ]
  },
  {
   "cell_type": "code",
   "execution_count": null,
   "id": "ca1a69eb",
   "metadata": {},
   "outputs": [],
   "source": []
  }
 ],
 "metadata": {
  "kernelspec": {
   "display_name": "Python 3",
   "language": "python",
   "name": "python3"
  },
  "language_info": {
   "codemirror_mode": {
    "name": "ipython",
    "version": 3
   },
   "file_extension": ".py",
   "mimetype": "text/x-python",
   "name": "python",
   "nbconvert_exporter": "python",
   "pygments_lexer": "ipython3",
   "version": "3.11.9"
  }
 },
 "nbformat": 4,
 "nbformat_minor": 5
}
